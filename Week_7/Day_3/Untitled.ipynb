{
 "cells": [
  {
   "cell_type": "code",
   "execution_count": 3,
   "id": "39df5e19",
   "metadata": {},
   "outputs": [
    {
     "name": "stdout",
     "output_type": "stream",
     "text": [
      "[  6  10  14  18  22  26  30  34  38  42  46  50  54  58  62  66  70  74\n",
      "  78  82  86  90  94  98 102 106 110 114 118 122 126 130 134 138 142 146\n",
      " 150 154 158 162 166 170 174 178 182 186 190 194 198 202 206 210 214 218\n",
      " 222 226 230 234 238 242 246 250 254 258 262 266 270 274 278 282 286 290\n",
      " 294 298 302 306 310 314 318 322 326 330 334 338 342 346 350 354 358 362\n",
      " 366 370 374 378 382 386 390 394 398 402]\n"
     ]
    },
    {
     "data": {
      "text/plain": [
       "array([77, 92, 79, 97, 94])"
      ]
     },
     "execution_count": 3,
     "metadata": {},
     "output_type": "execute_result"
    }
   ],
   "source": [
    "import numpy as np\n",
    "\n",
    "def npf(start, length, stop):\n",
    "    print(np.arange(0,length)*stop+start)\n",
    "npf(6, 100, 4)\n",
    "    \n",
    "\n",
    "a = np.array([1,2,3,np.nan,5,6,7,np.nan])\n",
    "a\n",
    "a = a[~ np.isnan(a)]\n",
    "a\n",
    "\n",
    "a = np.random.randint(1, 100, size=(5, 6))\n",
    "a\n",
    "\n",
    "x = np.amax(a, 1)\n",
    "x\n",
    "\n",
    "\n"
   ]
  },
  {
   "cell_type": "code",
   "execution_count": null,
   "id": "af4baab7",
   "metadata": {},
   "outputs": [],
   "source": []
  },
  {
   "cell_type": "code",
   "execution_count": null,
   "id": "75910939",
   "metadata": {},
   "outputs": [],
   "source": []
  },
  {
   "cell_type": "code",
   "execution_count": null,
   "id": "d2edf6ea",
   "metadata": {},
   "outputs": [],
   "source": []
  },
  {
   "cell_type": "code",
   "execution_count": null,
   "id": "13ecabf9",
   "metadata": {},
   "outputs": [],
   "source": []
  },
  {
   "cell_type": "code",
   "execution_count": null,
   "id": "0b0a6039",
   "metadata": {},
   "outputs": [],
   "source": []
  },
  {
   "cell_type": "code",
   "execution_count": null,
   "id": "86573f30",
   "metadata": {},
   "outputs": [],
   "source": []
  }
 ],
 "metadata": {
  "kernelspec": {
   "display_name": "Python 3",
   "language": "python",
   "name": "python3"
  },
  "language_info": {
   "codemirror_mode": {
    "name": "ipython",
    "version": 3
   },
   "file_extension": ".py",
   "mimetype": "text/x-python",
   "name": "python",
   "nbconvert_exporter": "python",
   "pygments_lexer": "ipython3",
   "version": "3.8.8"
  }
 },
 "nbformat": 4,
 "nbformat_minor": 5
}
