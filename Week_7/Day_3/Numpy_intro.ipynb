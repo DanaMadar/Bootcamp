{
 "cells": [
  {
   "cell_type": "markdown",
   "id": "6c79bf85",
   "metadata": {},
   "source": [
    "### The conventional way to import the package is as follows:"
   ]
  },
  {
   "cell_type": "code",
   "execution_count": 31,
   "id": "d6c97f4d",
   "metadata": {},
   "outputs": [],
   "source": [
    "import numpy as np"
   ]
  },
  {
   "cell_type": "markdown",
   "id": "f0c53c2f",
   "metadata": {},
   "source": [
    "### Let’s create our first NumPy array. It can be done simply by passing in a Python list!"
   ]
  },
  {
   "cell_type": "code",
   "execution_count": 32,
   "id": "bd3d76d9",
   "metadata": {},
   "outputs": [
    {
     "data": {
      "text/plain": [
       "array([   2,    4,    6,    8,   13, 2020])"
      ]
     },
     "execution_count": 32,
     "metadata": {},
     "output_type": "execute_result"
    }
   ],
   "source": [
    "lst = [2, 4, 6, 8, 13, 2020]\n",
    "numpy_arr = np.array(lst)\n",
    "numpy_arr"
   ]
  },
  {
   "cell_type": "markdown",
   "id": "f445799c",
   "metadata": {},
   "source": [
    "### A 2 dimensional array (also can be called a matrix) is simply a list of lists, so we can just pass that in:"
   ]
  },
  {
   "cell_type": "code",
   "execution_count": 33,
   "id": "74b993e0",
   "metadata": {},
   "outputs": [
    {
     "data": {
      "text/plain": [
       "array([[   3,    5,    7,   -4,    1],\n",
       "       [   0,    5,   33, -750,    2]])"
      ]
     },
     "execution_count": 33,
     "metadata": {},
     "output_type": "execute_result"
    }
   ],
   "source": [
    "lst_2d = [[3, 5, 7, -4, 1], [0, 5, 33, -750, 2]]\n",
    "numpy_arr_2d = np.array(lst_2d)\n",
    "numpy_arr_2d"
   ]
  },
  {
   "cell_type": "markdown",
   "id": "bc9ae4d7",
   "metadata": {},
   "source": [
    "### Shape\n",
    "We can verify how many dimensions our array is and how big each one is. This is very important, especially when dealing with mathematical functions."
   ]
  },
  {
   "cell_type": "code",
   "execution_count": 34,
   "id": "836b695b",
   "metadata": {},
   "outputs": [
    {
     "data": {
      "text/plain": [
       "(6,)"
      ]
     },
     "execution_count": 34,
     "metadata": {},
     "output_type": "execute_result"
    }
   ],
   "source": [
    "numpy_arr.shape"
   ]
  },
  {
   "cell_type": "code",
   "execution_count": 35,
   "id": "9b836893",
   "metadata": {},
   "outputs": [
    {
     "data": {
      "text/plain": [
       "(2, 5)"
      ]
     },
     "execution_count": 35,
     "metadata": {},
     "output_type": "execute_result"
    }
   ],
   "source": [
    "numpy_arr_2d.shape"
   ]
  },
  {
   "cell_type": "markdown",
   "id": "c7276c70",
   "metadata": {},
   "source": [
    " You can reshape dimensions with NumPy arrays as long as the elements required for reshaping are equal in both shapes."
   ]
  },
  {
   "cell_type": "code",
   "execution_count": 36,
   "id": "b4b24445",
   "metadata": {},
   "outputs": [
    {
     "data": {
      "text/plain": [
       "array([[   2,    4],\n",
       "       [   6,    8],\n",
       "       [  13, 2020]])"
      ]
     },
     "execution_count": 36,
     "metadata": {},
     "output_type": "execute_result"
    }
   ],
   "source": [
    "numpy_arr.reshape((3,2))"
   ]
  },
  {
   "cell_type": "code",
   "execution_count": 38,
   "id": "fb7dde1b",
   "metadata": {},
   "outputs": [
    {
     "ename": "ValueError",
     "evalue": "cannot reshape array of size 10 into shape (3,5)",
     "output_type": "error",
     "traceback": [
      "\u001b[1;31m---------------------------------------------------------------------------\u001b[0m",
      "\u001b[1;31mValueError\u001b[0m                                Traceback (most recent call last)",
      "\u001b[1;32m<ipython-input-38-c357301973ff>\u001b[0m in \u001b[0;36m<module>\u001b[1;34m\u001b[0m\n\u001b[1;32m----> 1\u001b[1;33m \u001b[0mnumpy_arr_2d\u001b[0m\u001b[1;33m.\u001b[0m\u001b[0mreshape\u001b[0m\u001b[1;33m(\u001b[0m\u001b[1;33m(\u001b[0m\u001b[1;36m3\u001b[0m\u001b[1;33m,\u001b[0m\u001b[1;36m5\u001b[0m\u001b[1;33m)\u001b[0m\u001b[1;33m)\u001b[0m\u001b[1;33m\u001b[0m\u001b[1;33m\u001b[0m\u001b[0m\n\u001b[0m",
      "\u001b[1;31mValueError\u001b[0m: cannot reshape array of size 10 into shape (3,5)"
     ]
    }
   ],
   "source": [
    "numpy_arr_2d.reshape((3,5))"
   ]
  },
  {
   "cell_type": "markdown",
   "id": "63dfd89a",
   "metadata": {},
   "source": [
    "Specifying one of the shapes to be -1 tells NumPy to figure out the size of that dimension,\n",
    "as long as you specify the other dimension sizes. In this case, numpy_arr_2d, originally a 2x5 matrix, figures out that if you want 2 columns, automatically the other dimension size is 5"
   ]
  },
  {
   "cell_type": "code",
   "execution_count": 39,
   "id": "0fe4ccc8",
   "metadata": {},
   "outputs": [
    {
     "data": {
      "text/plain": [
       "array([[   3,    5],\n",
       "       [   7,   -4],\n",
       "       [   1,    0],\n",
       "       [   5,   33],\n",
       "       [-750,    2]])"
      ]
     },
     "execution_count": 39,
     "metadata": {},
     "output_type": "execute_result"
    }
   ],
   "source": [
    "numpy_arr_2d.reshape((-1, 2))"
   ]
  },
  {
   "cell_type": "markdown",
   "id": "48e5af18",
   "metadata": {},
   "source": [
    "### Indexing:\n",
    "Indexing and slicing is done the exact same way as you would for a regular old Python list."
   ]
  },
  {
   "cell_type": "code",
   "execution_count": 40,
   "id": "c100e3ac",
   "metadata": {},
   "outputs": [
    {
     "data": {
      "text/plain": [
       "4"
      ]
     },
     "execution_count": 40,
     "metadata": {},
     "output_type": "execute_result"
    }
   ],
   "source": [
    "numpy_arr[1]"
   ]
  },
  {
   "cell_type": "code",
   "execution_count": 42,
   "id": "592a0a67",
   "metadata": {},
   "outputs": [
    {
     "data": {
      "text/plain": [
       "array([  13, 2020])"
      ]
     },
     "execution_count": 42,
     "metadata": {},
     "output_type": "execute_result"
    }
   ],
   "source": [
    "numpy_arr[-2:]"
   ]
  },
  {
   "cell_type": "markdown",
   "id": "9d5b07a1",
   "metadata": {},
   "source": [
    "Say that we want to get only the second column from numpy_arr_2d. Each dimension is delimited by a comma.the colon says that we want all the elements of that dimension."
   ]
  },
  {
   "cell_type": "code",
   "execution_count": 44,
   "id": "4f38e140",
   "metadata": {},
   "outputs": [
    {
     "data": {
      "text/plain": [
       "array([   0,    5,   33, -750,    2])"
      ]
     },
     "execution_count": 44,
     "metadata": {},
     "output_type": "execute_result"
    }
   ],
   "source": [
    "numpy_arr_2d[1,:]"
   ]
  },
  {
   "cell_type": "markdown",
   "id": "584b467a",
   "metadata": {},
   "source": [
    "### Mathematical Functions:\n",
    "Some basic functions include finding the min/max value, the mean and the median.\n",
    "For many functions you can specify which axis (dimension) you want the calculation."
   ]
  },
  {
   "cell_type": "code",
   "execution_count": 45,
   "id": "30b2a215",
   "metadata": {},
   "outputs": [
    {
     "data": {
      "text/plain": [
       "342.1666666666667"
      ]
     },
     "execution_count": 45,
     "metadata": {},
     "output_type": "execute_result"
    }
   ],
   "source": [
    "np.mean(numpy_arr)"
   ]
  },
  {
   "cell_type": "code",
   "execution_count": 46,
   "id": "e22196d7",
   "metadata": {},
   "outputs": [
    {
     "data": {
      "text/plain": [
       "7.0"
      ]
     },
     "execution_count": 46,
     "metadata": {},
     "output_type": "execute_result"
    }
   ],
   "source": [
    "np.median(numpy_arr)"
   ]
  },
  {
   "cell_type": "code",
   "execution_count": 47,
   "id": "46fdaec1",
   "metadata": {},
   "outputs": [
    {
     "data": {
      "text/plain": [
       "2"
      ]
     },
     "execution_count": 47,
     "metadata": {},
     "output_type": "execute_result"
    }
   ],
   "source": [
    "numpy_arr.min()"
   ]
  },
  {
   "cell_type": "code",
   "execution_count": 48,
   "id": "86be97ee",
   "metadata": {},
   "outputs": [
    {
     "data": {
      "text/plain": [
       "2020"
      ]
     },
     "execution_count": 48,
     "metadata": {},
     "output_type": "execute_result"
    }
   ],
   "source": [
    "numpy_arr.max()"
   ]
  },
  {
   "cell_type": "markdown",
   "id": "802f7028",
   "metadata": {},
   "source": [
    "Here we specify we want to find the mean of the 2nd dimension (ie each of the columns)"
   ]
  },
  {
   "cell_type": "code",
   "execution_count": 53,
   "id": "d8512564",
   "metadata": {},
   "outputs": [
    {
     "data": {
      "text/plain": [
       "array([   2.4, -142. ])"
      ]
     },
     "execution_count": 53,
     "metadata": {},
     "output_type": "execute_result"
    }
   ],
   "source": [
    "np.mean(numpy_arr_2d, 1)"
   ]
  },
  {
   "cell_type": "markdown",
   "id": "bb2fbd25",
   "metadata": {},
   "source": [
    "### Mathematical Operations:\n",
    "What if I want to add 5 to each element? Or raise each element to the power of 3?"
   ]
  },
  {
   "cell_type": "code",
   "execution_count": 54,
   "id": "fbb4f67e",
   "metadata": {},
   "outputs": [
    {
     "name": "stdout",
     "output_type": "stream",
     "text": [
      "[   2    4    6    8   13 2020]\n",
      "[   7    9   11   13   18 2025]\n",
      "[         8         64        216        512       2197 -347526592]\n"
     ]
    }
   ],
   "source": [
    "print(numpy_arr)\n",
    "print(numpy_arr + 5)\n",
    "print(numpy_arr ** 3)"
   ]
  },
  {
   "cell_type": "code",
   "execution_count": null,
   "id": "2513925b",
   "metadata": {},
   "outputs": [],
   "source": [
    "You can perform operations on one array to another.\n",
    "#arange is NumPy's version of the Python's range function\n",
    "#the dot product of 2 matrices"
   ]
  },
  {
   "cell_type": "code",
   "execution_count": 55,
   "id": "8f9e8475",
   "metadata": {
    "scrolled": true
   },
   "outputs": [
    {
     "name": "stdout",
     "output_type": "stream",
     "text": [
      "[[0 1 2]\n",
      " [3 4 5]\n",
      " [6 7 8]]\n",
      "\n",
      "\n",
      "[[20 19 18]\n",
      " [17 16 15]\n",
      " [14 13 12]]\n",
      "\n",
      "\n",
      "[[20 20 20]\n",
      " [20 20 20]\n",
      " [20 20 20]]\n",
      "\n",
      "\n",
      "[[ 0 19 36]\n",
      " [51 64 75]\n",
      " [84 91 96]]\n",
      "\n",
      "\n",
      "[[ 45  42  39]\n",
      " [198 186 174]\n",
      " [351 330 309]]\n"
     ]
    }
   ],
   "source": [
    "a = np.arange(9).reshape((3,3))\n",
    "print(a)\n",
    "print(\"\\n\")\n",
    "b = np.arange(20, 11, -1).reshape((3,3))\n",
    "print(b)\n",
    "print(\"\\n\")\n",
    "print(a + b)\n",
    "print(\"\\n\")\n",
    "print(a * b)\n",
    "print(\"\\n\")\n",
    "print(np.dot(a, b))"
   ]
  },
  {
   "cell_type": "markdown",
   "id": "57535348",
   "metadata": {},
   "source": [
    "### Nan\n",
    "nan is basically a numerical datatype that represents an undefined value. \n",
    "For example if you try to divide a NumPy array by 0, you will get an array full of nan‘s. \n",
    "Most real life data has undefined or unknown values and we will see this and deal with it a lot"
   ]
  },
  {
   "cell_type": "code",
   "execution_count": 56,
   "id": "cd476690",
   "metadata": {},
   "outputs": [
    {
     "data": {
      "text/plain": [
       "nan"
      ]
     },
     "execution_count": 56,
     "metadata": {},
     "output_type": "execute_result"
    }
   ],
   "source": [
    "np.nan"
   ]
  },
  {
   "cell_type": "code",
   "execution_count": 57,
   "id": "b4641ed1",
   "metadata": {},
   "outputs": [
    {
     "name": "stderr",
     "output_type": "stream",
     "text": [
      "<ipython-input-57-0fc8f679bef7>:1: RuntimeWarning: divide by zero encountered in true_divide\n",
      "  numpy_arr/0\n"
     ]
    },
    {
     "data": {
      "text/plain": [
       "array([inf, inf, inf, inf, inf, inf])"
      ]
     },
     "execution_count": 57,
     "metadata": {},
     "output_type": "execute_result"
    }
   ],
   "source": [
    "numpy_arr/0"
   ]
  },
  {
   "cell_type": "markdown",
   "id": "ff286c6e",
   "metadata": {},
   "source": [
    "## Exercise"
   ]
  },
  {
   "cell_type": "code",
   "execution_count": 30,
   "id": "ac19f542",
   "metadata": {},
   "outputs": [
    {
     "name": "stdout",
     "output_type": "stream",
     "text": [
      "2\n",
      "\n",
      "\n",
      "750.3577850302851\n",
      "\n",
      "\n",
      "10083840\n",
      "\n",
      "\n",
      "4080689\n",
      "\n",
      "\n",
      "[  -2    0    2    4    9 2016]\n"
     ]
    }
   ],
   "source": [
    "def np_calc(arr):\n",
    "    return arr.min(),np.std(arr),np.prod(arr),np.dot(arr,arr),arr-4\n",
    "\n",
    "arr_min,arr_std,arr_prod,arr_dot,arr_minus_four=np_calc(numpy_arr)\n",
    "print(arr_min)\n",
    "print(\"\\n\")\n",
    "print(arr_std)\n",
    "print(\"\\n\")\n",
    "print(arr_prod)\n",
    "print(\"\\n\")\n",
    "print(arr_dot)\n",
    "print(\"\\n\")\n",
    "print(arr_minus_four)"
   ]
  },
  {
   "cell_type": "code",
   "execution_count": 1,
   "id": "b204b47b",
   "metadata": {},
   "outputs": [
    {
     "name": "stdout",
     "output_type": "stream",
     "text": [
      "Collecting pandas\n",
      "  Downloading pandas-1.3.4-cp310-cp310-macosx_11_0_arm64.whl (10.3 MB)\n",
      "     |████████████████████████████████| 10.3 MB 2.6 MB/s            \n",
      "\u001b[?25hRequirement already satisfied: numpy>=1.21.0 in /Library/Frameworks/Python.framework/Versions/3.10/lib/python3.10/site-packages (from pandas) (1.21.4)\n",
      "Requirement already satisfied: python-dateutil>=2.7.3 in /Library/Frameworks/Python.framework/Versions/3.10/lib/python3.10/site-packages (from pandas) (2.8.2)\n",
      "Collecting pytz>=2017.3\n",
      "  Downloading pytz-2021.3-py2.py3-none-any.whl (503 kB)\n",
      "     |████████████████████████████████| 503 kB 7.9 MB/s            \n",
      "\u001b[?25hRequirement already satisfied: six>=1.5 in /Library/Frameworks/Python.framework/Versions/3.10/lib/python3.10/site-packages (from python-dateutil>=2.7.3->pandas) (1.16.0)\n",
      "Installing collected packages: pytz, pandas\n",
      "Successfully installed pandas-1.3.4 pytz-2021.3\n",
      "Note: you may need to restart the kernel to use updated packages.\n"
     ]
    }
   ],
   "source": [
    "pip install pandas"
   ]
  },
  {
   "cell_type": "code",
   "execution_count": null,
   "id": "2533c366",
   "metadata": {},
   "outputs": [],
   "source": []
  }
 ],
 "metadata": {
  "kernelspec": {
   "display_name": "Python 3 (ipykernel)",
   "language": "python",
   "name": "python3"
  },
  "language_info": {
   "codemirror_mode": {
    "name": "ipython",
    "version": 3
   },
   "file_extension": ".py",
   "mimetype": "text/x-python",
   "name": "python",
   "nbconvert_exporter": "python",
   "pygments_lexer": "ipython3",
   "version": "3.10.0"
  }
 },
 "nbformat": 4,
 "nbformat_minor": 5
}
