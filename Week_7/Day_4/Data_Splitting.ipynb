{
 "cells": [
  {
   "cell_type": "markdown",
   "id": "2316ba5d",
   "metadata": {},
   "source": [
    "## Splitting The Data"
   ]
  },
  {
   "cell_type": "markdown",
   "id": "cd0a4744",
   "metadata": {},
   "source": [
    "The last part of data processing is making the appropriate splits between\n",
    "training and testing data.\n",
    "\n",
    "Very typically your data gets split into 4 variables:\n",
    "X_train, X_test, y_train, and y_test"
   ]
  },
  {
   "cell_type": "markdown",
   "id": "e598f7b7",
   "metadata": {},
   "source": [
    "### X And Y\n",
    "The first part is separating the target feature from the rest of the data.\n",
    "Conventionally, the target feature is put into a variable y and the rest of the data\n",
    "is put into a variable X. (yes, it’s specifically capital X and lowercase y)\n",
    "\n",
    "X is known as the independent variables and y is the dependant variable or the target variable"
   ]
  },
  {
   "cell_type": "markdown",
   "id": "6177430a",
   "metadata": {},
   "source": [
    "### Train And Test\n",
    "The training set is the large majority of the data that the model uses to learn. \n",
    "Afterwards we fit the test data into the model and observe the performance.\n",
    "\n",
    "Usually 75-80% of the data for train and 20-25% for test. \n",
    "Sklearn has a great method train_test_split to accomplish this."
   ]
  },
  {
   "cell_type": "code",
   "execution_count": 14,
   "id": "7c951a31",
   "metadata": {},
   "outputs": [],
   "source": [
    "import numpy as np\n",
    "from sklearn.model_selection import train_test_split\n",
    "import pandas as pd"
   ]
  },
  {
   "cell_type": "code",
   "execution_count": 2,
   "id": "0afa5c4e",
   "metadata": {},
   "outputs": [
    {
     "data": {
      "text/plain": [
       "array([[0, 1],\n",
       "       [2, 3],\n",
       "       [4, 5],\n",
       "       [6, 7],\n",
       "       [8, 9]])"
      ]
     },
     "execution_count": 2,
     "metadata": {},
     "output_type": "execute_result"
    }
   ],
   "source": [
    "X, y = np.arange(10).reshape((5, 2)), range(5)\n",
    "X"
   ]
  },
  {
   "cell_type": "code",
   "execution_count": 3,
   "id": "16fbc755",
   "metadata": {},
   "outputs": [
    {
     "data": {
      "text/plain": [
       "[0, 1, 2, 3, 4]"
      ]
     },
     "execution_count": 3,
     "metadata": {},
     "output_type": "execute_result"
    }
   ],
   "source": [
    "list(y)"
   ]
  },
  {
   "cell_type": "code",
   "execution_count": 4,
   "id": "e0edb969",
   "metadata": {},
   "outputs": [],
   "source": [
    "X_train, X_test, y_train, y_test = train_test_split(X, y, test_size=0.33, random_state=42) "
   ]
  },
  {
   "cell_type": "code",
   "execution_count": 5,
   "id": "4d9692c5",
   "metadata": {},
   "outputs": [
    {
     "data": {
      "text/plain": [
       "array([[4, 5],\n",
       "       [0, 1],\n",
       "       [6, 7]])"
      ]
     },
     "execution_count": 5,
     "metadata": {},
     "output_type": "execute_result"
    }
   ],
   "source": [
    "X_train"
   ]
  },
  {
   "cell_type": "code",
   "execution_count": 6,
   "id": "ead8dea1",
   "metadata": {},
   "outputs": [
    {
     "data": {
      "text/plain": [
       "array([[2, 3],\n",
       "       [8, 9]])"
      ]
     },
     "execution_count": 6,
     "metadata": {},
     "output_type": "execute_result"
    }
   ],
   "source": [
    "X_test"
   ]
  },
  {
   "cell_type": "code",
   "execution_count": 7,
   "id": "0d0a31c2",
   "metadata": {},
   "outputs": [
    {
     "data": {
      "text/plain": [
       "[2, 0, 3]"
      ]
     },
     "execution_count": 7,
     "metadata": {},
     "output_type": "execute_result"
    }
   ],
   "source": [
    "y_train"
   ]
  },
  {
   "cell_type": "code",
   "execution_count": 8,
   "id": "8eee6481",
   "metadata": {},
   "outputs": [
    {
     "data": {
      "text/plain": [
       "[1, 4]"
      ]
     },
     "execution_count": 8,
     "metadata": {},
     "output_type": "execute_result"
    }
   ],
   "source": [
    "y_test"
   ]
  },
  {
   "cell_type": "markdown",
   "id": "c4c385c3",
   "metadata": {},
   "source": [
    "### Time Series\n",
    "However there are cases where the data should not be split randomly. \n",
    "For example in time series data, such as the stock market,\n",
    "you’re generally trying to predict the next day’s or week’s value and therefore the data should be split so that\n",
    "the training data contains the older samples and test has the newer samples"
   ]
  },
  {
   "cell_type": "markdown",
   "id": "59a9bfa8",
   "metadata": {},
   "source": [
    "### Classification\n",
    "Additionally, in Classification, when doing splits you want to make sure you don’t cause a data imbalance.\n",
    "For example, if variable y is a binary categorical variable with values 0 and 1 you don’t want the test set\n",
    "to contain all the ones and the training set to contain all the zeros."
   ]
  },
  {
   "cell_type": "markdown",
   "id": "a139a3d6",
   "metadata": {},
   "source": [
    "train_test_split has a stratify parameter that deals with this. So if your y variable has 25% of zeros and 75% of\n",
    "ones, stratify=y will make sure that your random split has 25% of zeros and 75% of ones."
   ]
  },
  {
   "cell_type": "code",
   "execution_count": 9,
   "id": "fc7b3f34",
   "metadata": {},
   "outputs": [
    {
     "data": {
      "text/plain": [
       "[1, 1, 1, 0, 0]"
      ]
     },
     "execution_count": 9,
     "metadata": {},
     "output_type": "execute_result"
    }
   ],
   "source": [
    "X, y = np.arange(10).reshape((5, 2)), [1,1,1,0,0]\n",
    "y"
   ]
  },
  {
   "cell_type": "code",
   "execution_count": 10,
   "id": "a3ce11f7",
   "metadata": {},
   "outputs": [],
   "source": [
    "X_train, X_test, y_train, y_test = train_test_split(X, y, stratify=y,test_size=0.33, random_state=42) "
   ]
  },
  {
   "cell_type": "code",
   "execution_count": 11,
   "id": "d556dc06",
   "metadata": {},
   "outputs": [
    {
     "data": {
      "text/plain": [
       "[0, 1, 1]"
      ]
     },
     "execution_count": 11,
     "metadata": {},
     "output_type": "execute_result"
    }
   ],
   "source": [
    "y_train"
   ]
  },
  {
   "cell_type": "code",
   "execution_count": 12,
   "id": "4e29d089",
   "metadata": {},
   "outputs": [
    {
     "data": {
      "text/plain": [
       "[1, 0]"
      ]
     },
     "execution_count": 12,
     "metadata": {},
     "output_type": "execute_result"
    }
   ],
   "source": [
    "y_test"
   ]
  },
  {
   "cell_type": "markdown",
   "id": "5ef47959",
   "metadata": {},
   "source": [
    "## Ex"
   ]
  },
  {
   "cell_type": "code",
   "execution_count": 22,
   "id": "6877a824",
   "metadata": {},
   "outputs": [
    {
     "name": "stdout",
     "output_type": "stream",
     "text": [
      "[[5.1 3.5 1.4 0.2]\n",
      " [4.9 3.0 1.4 0.2]\n",
      " [4.7 3.2 1.3 0.2]\n",
      " [4.6 3.1 1.5 0.2]\n",
      " [5.0 3.6 1.4 0.2]\n",
      " [5.4 3.9 1.7 0.4]\n",
      " [4.6 3.4 1.4 0.3]\n",
      " [5.0 3.4 1.5 0.2]\n",
      " [4.4 2.9 1.4 0.2]\n",
      " [4.9 3.1 1.5 0.1]\n",
      " [5.4 3.7 1.5 0.2]\n",
      " [4.8 3.4 1.6 0.2]\n",
      " [4.8 3.0 1.4 0.1]\n",
      " [4.3 3.0 1.1 0.1]\n",
      " [5.8 4.0 1.2 0.2]\n",
      " [5.7 4.4 1.5 0.4]\n",
      " [5.4 3.9 1.3 0.4]\n",
      " [5.1 3.5 1.4 0.3]\n",
      " [5.7 3.8 1.7 0.3]\n",
      " [5.1 3.8 1.5 0.3]\n",
      " [5.4 3.4 1.7 0.2]\n",
      " [5.1 3.7 1.5 0.4]\n",
      " [4.6 3.6 1.0 0.2]\n",
      " [5.1 3.3 1.7 0.5]\n",
      " [4.8 3.4 1.9 0.2]\n",
      " [5.0 3.0 1.6 0.2]\n",
      " [5.0 3.4 1.6 0.4]\n",
      " [5.2 3.5 1.5 0.2]\n",
      " [5.2 3.4 1.4 0.2]\n",
      " [4.7 3.2 1.6 0.2]\n",
      " [4.8 3.1 1.6 0.2]\n",
      " [5.4 3.4 1.5 0.4]\n",
      " [5.2 4.1 1.5 0.1]\n",
      " [5.5 4.2 1.4 0.2]\n",
      " [4.9 3.1 1.5 0.2]\n",
      " [5.0 3.2 1.2 0.2]\n",
      " [5.5 3.5 1.3 0.2]\n",
      " [4.9 3.6 1.4 0.1]\n",
      " [4.4 3.0 1.3 0.2]\n",
      " [5.1 3.4 1.5 0.2]\n",
      " [5.0 3.5 1.3 0.3]\n",
      " [4.5 2.3 1.3 0.3]\n",
      " [4.4 3.2 1.3 0.2]\n",
      " [5.0 3.5 1.6 0.6]\n",
      " [5.1 3.8 1.9 0.4]\n",
      " [4.8 3.0 1.4 0.3]\n",
      " [5.1 3.8 1.6 0.2]\n",
      " [4.6 3.2 1.4 0.2]\n",
      " [5.3 3.7 1.5 0.2]\n",
      " [5.0 3.3 1.4 0.2]\n",
      " [7.0 3.2 4.7 1.4]\n",
      " [6.4 3.2 4.5 1.5]\n",
      " [6.9 3.1 4.9 1.5]\n",
      " [5.5 2.3 4.0 1.3]\n",
      " [6.5 2.8 4.6 1.5]\n",
      " [5.7 2.8 4.5 1.3]\n",
      " [6.3 3.3 4.7 1.6]\n",
      " [4.9 2.4 3.3 1.0]\n",
      " [6.6 2.9 4.6 1.3]\n",
      " [5.2 2.7 3.9 1.4]\n",
      " [5.0 2.0 3.5 1.0]\n",
      " [5.9 3.0 4.2 1.5]\n",
      " [6.0 2.2 4.0 1.0]\n",
      " [6.1 2.9 4.7 1.4]\n",
      " [5.6 2.9 3.6 1.3]\n",
      " [6.7 3.1 4.4 1.4]\n",
      " [5.6 3.0 4.5 1.5]\n",
      " [5.8 2.7 4.1 1.0]\n",
      " [6.2 2.2 4.5 1.5]\n",
      " [5.6 2.5 3.9 1.1]\n",
      " [5.9 3.2 4.8 1.8]\n",
      " [6.1 2.8 4.0 1.3]\n",
      " [6.3 2.5 4.9 1.5]\n",
      " [6.1 2.8 4.7 1.2]\n",
      " [6.4 2.9 4.3 1.3]\n",
      " [6.6 3.0 4.4 1.4]\n",
      " [6.8 2.8 4.8 1.4]\n",
      " [6.7 3.0 5.0 1.7]\n",
      " [6.0 2.9 4.5 1.5]\n",
      " [5.7 2.6 3.5 1.0]\n",
      " [5.5 2.4 3.8 1.1]\n",
      " [5.5 2.4 3.7 1.0]\n",
      " [5.8 2.7 3.9 1.2]\n",
      " [6.0 2.7 5.1 1.6]\n",
      " [5.4 3.0 4.5 1.5]\n",
      " [6.0 3.4 4.5 1.6]\n",
      " [6.7 3.1 4.7 1.5]\n",
      " [6.3 2.3 4.4 1.3]\n",
      " [5.6 3.0 4.1 1.3]\n",
      " [5.5 2.5 4.0 1.3]\n",
      " [5.5 2.6 4.4 1.2]\n",
      " [6.1 3.0 4.6 1.4]\n",
      " [5.8 2.6 4.0 1.2]\n",
      " [5.0 2.3 3.3 1.0]\n",
      " [5.6 2.7 4.2 1.3]\n",
      " [5.7 3.0 4.2 1.2]\n",
      " [5.7 2.9 4.2 1.3]\n",
      " [6.2 2.9 4.3 1.3]\n",
      " [5.1 2.5 3.0 1.1]\n",
      " [5.7 2.8 4.1 1.3]\n",
      " [6.3 3.3 6.0 2.5]\n",
      " [5.8 2.7 5.1 1.9]\n",
      " [7.1 3.0 5.9 2.1]\n",
      " [6.3 2.9 5.6 1.8]\n",
      " [6.5 3.0 5.8 2.2]\n",
      " [7.6 3.0 6.6 2.1]\n",
      " [4.9 2.5 4.5 1.7]\n",
      " [7.3 2.9 6.3 1.8]\n",
      " [6.7 2.5 5.8 1.8]\n",
      " [7.2 3.6 6.1 2.5]\n",
      " [6.5 3.2 5.1 2.0]\n",
      " [6.4 2.7 5.3 1.9]\n",
      " [6.8 3.0 5.5 2.1]\n",
      " [5.7 2.5 5.0 2.0]\n",
      " [5.8 2.8 5.1 2.4]\n",
      " [6.4 3.2 5.3 2.3]\n",
      " [6.5 3.0 5.5 1.8]\n",
      " [7.7 3.8 6.7 2.2]\n",
      " [7.7 2.6 6.9 2.3]\n",
      " [6.0 2.2 5.0 1.5]\n",
      " [6.9 3.2 5.7 2.3]\n",
      " [5.6 2.8 4.9 2.0]\n",
      " [7.7 2.8 6.7 2.0]\n",
      " [6.3 2.7 4.9 1.8]\n",
      " [6.7 3.3 5.7 2.1]\n",
      " [7.2 3.2 6.0 1.8]\n",
      " [6.2 2.8 4.8 1.8]\n",
      " [6.1 3.0 4.9 1.8]\n",
      " [6.4 2.8 5.6 2.1]\n",
      " [7.2 3.0 5.8 1.6]\n",
      " [7.4 2.8 6.1 1.9]\n",
      " [7.9 3.8 6.4 2.0]\n",
      " [6.4 2.8 5.6 2.2]\n",
      " [6.3 2.8 5.1 1.5]\n",
      " [6.1 2.6 5.6 1.4]\n",
      " [7.7 3.0 6.1 2.3]\n",
      " [6.3 3.4 5.6 2.4]\n",
      " [6.4 3.1 5.5 1.8]\n",
      " [6.0 3.0 4.8 1.8]\n",
      " [6.9 3.1 5.4 2.1]\n",
      " [6.7 3.1 5.6 2.4]\n",
      " [6.9 3.1 5.1 2.3]\n",
      " [5.8 2.7 5.1 1.9]\n",
      " [6.8 3.2 5.9 2.3]\n",
      " [6.7 3.3 5.7 2.5]\n",
      " [6.7 3.0 5.2 2.3]\n",
      " [6.3 2.5 5.0 1.9]\n",
      " [6.5 3.0 5.2 2.0]\n",
      " [6.2 3.4 5.4 2.3]\n",
      " [5.9 3.0 5.1 1.8]]\n",
      "\n",
      "\n",
      "['setosa' 'setosa' 'setosa' 'setosa' 'setosa' 'setosa' 'setosa' 'setosa'\n",
      " 'setosa' 'setosa' 'setosa' 'setosa' 'setosa' 'setosa' 'setosa' 'setosa'\n",
      " 'setosa' 'setosa' 'setosa' 'setosa' 'setosa' 'setosa' 'setosa' 'setosa'\n",
      " 'setosa' 'setosa' 'setosa' 'setosa' 'setosa' 'setosa' 'setosa' 'setosa'\n",
      " 'setosa' 'setosa' 'setosa' 'setosa' 'setosa' 'setosa' 'setosa' 'setosa'\n",
      " 'setosa' 'setosa' 'setosa' 'setosa' 'setosa' 'setosa' 'setosa' 'setosa'\n",
      " 'setosa' 'setosa' 'versicolor' 'versicolor' 'versicolor' 'versicolor'\n",
      " 'versicolor' 'versicolor' 'versicolor' 'versicolor' 'versicolor'\n",
      " 'versicolor' 'versicolor' 'versicolor' 'versicolor' 'versicolor'\n",
      " 'versicolor' 'versicolor' 'versicolor' 'versicolor' 'versicolor'\n",
      " 'versicolor' 'versicolor' 'versicolor' 'versicolor' 'versicolor'\n",
      " 'versicolor' 'versicolor' 'versicolor' 'versicolor' 'versicolor'\n",
      " 'versicolor' 'versicolor' 'versicolor' 'versicolor' 'versicolor'\n",
      " 'versicolor' 'versicolor' 'versicolor' 'versicolor' 'versicolor'\n",
      " 'versicolor' 'versicolor' 'versicolor' 'versicolor' 'versicolor'\n",
      " 'versicolor' 'versicolor' 'versicolor' 'versicolor' 'versicolor'\n",
      " 'versicolor' 'virginica' 'virginica' 'virginica' 'virginica' 'virginica'\n",
      " 'virginica' 'virginica' 'virginica' 'virginica' 'virginica' 'virginica'\n",
      " 'virginica' 'virginica' 'virginica' 'virginica' 'virginica' 'virginica'\n",
      " 'virginica' 'virginica' 'virginica' 'virginica' 'virginica' 'virginica'\n",
      " 'virginica' 'virginica' 'virginica' 'virginica' 'virginica' 'virginica'\n",
      " 'virginica' 'virginica' 'virginica' 'virginica' 'virginica' 'virginica'\n",
      " 'virginica' 'virginica' 'virginica' 'virginica' 'virginica' 'virginica'\n",
      " 'virginica' 'virginica' 'virginica' 'virginica' 'virginica' 'virginica'\n",
      " 'virginica' 'virginica' 'virginica']\n"
     ]
    }
   ],
   "source": [
    "#Using the Iris dataset, split the dataset into the 4 train and test variables.\n",
    "df = pd.read_csv('https://raw.githubusercontent.com/mwaskom/seaborn-data/master/iris.csv')\n",
    "X=df.values[:,:-1]\n",
    "y=df.values[:,-1]\n",
    "print(X)\n",
    "print(\"\\n\")\n",
    "print(y)"
   ]
  },
  {
   "cell_type": "code",
   "execution_count": 29,
   "id": "eeddab30",
   "metadata": {},
   "outputs": [
    {
     "data": {
      "text/plain": [
       "0         setosa\n",
       "1         setosa\n",
       "2         setosa\n",
       "3         setosa\n",
       "4         setosa\n",
       "         ...    \n",
       "145    virginica\n",
       "146    virginica\n",
       "147    virginica\n",
       "148    virginica\n",
       "149    virginica\n",
       "Name: species, Length: 150, dtype: object"
      ]
     },
     "execution_count": 29,
     "metadata": {},
     "output_type": "execute_result"
    }
   ],
   "source": [
    "X=df.iloc[:,:-1]\n",
    "y=df.iloc[:,-1]"
   ]
  },
  {
   "cell_type": "code",
   "execution_count": 42,
   "id": "c03f059c",
   "metadata": {},
   "outputs": [],
   "source": [
    "X_train, X_test, y_train, y_test = train_test_split(X, y, stratify=y,test_size=0.33, random_state=42) "
   ]
  },
  {
   "cell_type": "code",
   "execution_count": 43,
   "id": "d8138988",
   "metadata": {},
   "outputs": [
    {
     "data": {
      "text/plain": [
       "136     virginica\n",
       "17         setosa\n",
       "142     virginica\n",
       "59     versicolor\n",
       "6          setosa\n",
       "          ...    \n",
       "49         setosa\n",
       "86     versicolor\n",
       "45         setosa\n",
       "60     versicolor\n",
       "47         setosa\n",
       "Name: species, Length: 100, dtype: object"
      ]
     },
     "execution_count": 43,
     "metadata": {},
     "output_type": "execute_result"
    }
   ],
   "source": [
    "y_train"
   ]
  },
  {
   "cell_type": "code",
   "execution_count": 32,
   "id": "17f29c91",
   "metadata": {},
   "outputs": [
    {
     "data": {
      "text/plain": [
       "133     virginica\n",
       "56     versicolor\n",
       "7          setosa\n",
       "67     versicolor\n",
       "107     virginica\n",
       "57     versicolor\n",
       "55     versicolor\n",
       "18         setosa\n",
       "66     versicolor\n",
       "53     versicolor\n",
       "42         setosa\n",
       "14         setosa\n",
       "23         setosa\n",
       "39         setosa\n",
       "10         setosa\n",
       "132     virginica\n",
       "138     virginica\n",
       "69     versicolor\n",
       "122     virginica\n",
       "99     versicolor\n",
       "147     virginica\n",
       "88     versicolor\n",
       "2          setosa\n",
       "116     virginica\n",
       "22         setosa\n",
       "104     virginica\n",
       "140     virginica\n",
       "35         setosa\n",
       "20         setosa\n",
       "148     virginica\n",
       "111     virginica\n",
       "141     virginica\n",
       "21         setosa\n",
       "84     versicolor\n",
       "28         setosa\n",
       "41         setosa\n",
       "145     virginica\n",
       "96     versicolor\n",
       "77     versicolor\n",
       "85     versicolor\n",
       "63     versicolor\n",
       "93     versicolor\n",
       "38         setosa\n",
       "1          setosa\n",
       "134     virginica\n",
       "78     versicolor\n",
       "108     virginica\n",
       "106     virginica\n",
       "51     versicolor\n",
       "127     virginica\n",
       "Name: species, dtype: object"
      ]
     },
     "execution_count": 32,
     "metadata": {},
     "output_type": "execute_result"
    }
   ],
   "source": [
    "y_test"
   ]
  },
  {
   "cell_type": "markdown",
   "id": "ae9d355b",
   "metadata": {},
   "source": [
    "Using set(), and pandas' shape, make sure that no data from the training data is in the testing data.\n",
    "(Can be done with the DataFrame's index) and make sure that the column sizes are the same in both sets"
   ]
  },
  {
   "cell_type": "code",
   "execution_count": 44,
   "id": "6efce278",
   "metadata": {},
   "outputs": [
    {
     "name": "stdout",
     "output_type": "stream",
     "text": [
      "(100, 4)\n",
      "(50, 4)\n"
     ]
    }
   ],
   "source": [
    "print(X_train.shape)\n",
    "print(X_test.shape)"
   ]
  },
  {
   "cell_type": "code",
   "execution_count": 45,
   "id": "c0e253b5",
   "metadata": {},
   "outputs": [
    {
     "name": "stdout",
     "output_type": "stream",
     "text": [
      "Ready\n"
     ]
    }
   ],
   "source": [
    "if X_train.shape[1]==X_test.shape[1]:\n",
    "    idx_train= set(X_train.index)\n",
    "    idx_test= set(X_test.index)\n",
    "    if idx_test in idx_train:\n",
    "        print(\"Data from train is in the test set\")\n",
    "    else:\n",
    "        print(\"Ready\")"
   ]
  },
  {
   "cell_type": "code",
   "execution_count": null,
   "id": "2d863905",
   "metadata": {},
   "outputs": [],
   "source": []
  }
 ],
 "metadata": {
  "kernelspec": {
   "display_name": "Python 3",
   "language": "python",
   "name": "python3"
  },
  "language_info": {
   "codemirror_mode": {
    "name": "ipython",
    "version": 3
   },
   "file_extension": ".py",
   "mimetype": "text/x-python",
   "name": "python",
   "nbconvert_exporter": "python",
   "pygments_lexer": "ipython3",
   "version": "3.8.8"
  }
 },
 "nbformat": 4,
 "nbformat_minor": 5
}
